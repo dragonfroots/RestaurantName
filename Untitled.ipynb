{
 "cells": [
  {
   "cell_type": "code",
   "execution_count": 1,
   "id": "62811409-a04f-4d6a-b817-1bcb42000cee",
   "metadata": {},
   "outputs": [
    {
     "data": {
      "text/plain": [
       "'/Users/diwaskc/Dropbox/Python/NLP/stream/RestaurantName'"
      ]
     },
     "execution_count": 1,
     "metadata": {},
     "output_type": "execute_result"
    }
   ],
   "source": [
    "pwd"
   ]
  },
  {
   "cell_type": "code",
   "execution_count": 2,
   "id": "b91e0d4f-b5bd-460b-92e4-a84bb0df8ac9",
   "metadata": {},
   "outputs": [
    {
     "name": "stdout",
     "output_type": "stream",
     "text": [
      "Untitled.ipynb      agenthelper.py      main.py\n",
      "\u001b[34m__pycache__\u001b[m\u001b[m/        langchainhelper.py  my_keys.py\n"
     ]
    }
   ],
   "source": [
    "ls"
   ]
  },
  {
   "cell_type": "code",
   "execution_count": 3,
   "id": "ee55ac66-3d4b-480c-a9f1-b0f63155baeb",
   "metadata": {},
   "outputs": [
    {
     "ename": "SyntaxError",
     "evalue": "invalid syntax (3945984024.py, line 1)",
     "output_type": "error",
     "traceback": [
      "\u001b[0;36m  Cell \u001b[0;32mIn[3], line 1\u001b[0;36m\u001b[0m\n\u001b[0;31m    del __pycache__/\u001b[0m\n\u001b[0m                   ^\u001b[0m\n\u001b[0;31mSyntaxError\u001b[0m\u001b[0;31m:\u001b[0m invalid syntax\n"
     ]
    }
   ],
   "source": [
    "del __pycache__/"
   ]
  },
  {
   "cell_type": "code",
   "execution_count": 4,
   "id": "ddc93091-639b-49e5-9b56-03cf061c487c",
   "metadata": {},
   "outputs": [
    {
     "ename": "SyntaxError",
     "evalue": "invalid syntax (2885265343.py, line 1)",
     "output_type": "error",
     "traceback": [
      "\u001b[0;36m  Cell \u001b[0;32mIn[4], line 1\u001b[0;36m\u001b[0m\n\u001b[0;31m    open Untitled.ipynb\u001b[0m\n\u001b[0m         ^\u001b[0m\n\u001b[0;31mSyntaxError\u001b[0m\u001b[0;31m:\u001b[0m invalid syntax\n"
     ]
    }
   ],
   "source": [
    "open Untitled.ipynb"
   ]
  },
  {
   "cell_type": "code",
   "execution_count": 5,
   "id": "62d96398-4438-40b1-8cab-4f9ece879787",
   "metadata": {},
   "outputs": [
    {
     "data": {
      "text/plain": [
       "{\n",
       " \"cells\": [\n",
       "  {\n",
       "   \"cell_type\": \"code\",\n",
       "   \"execution_count\": 1,\n",
       "   \"id\": \"62811409-a04f-4d6a-b817-1bcb42000cee\",\n",
       "   \"metadata\": {},\n",
       "   \"outputs\": [\n",
       "    {\n",
       "     \"data\": {\n",
       "      \"text/plain\": [\n",
       "       \"'/Users/diwaskc/Dropbox/Python/NLP/stream/RestaurantName'\"\n",
       "      ]\n",
       "     },\n",
       "     \"execution_count\": 1,\n",
       "     \"metadata\": {},\n",
       "     \"output_type\": \"execute_result\"\n",
       "    }\n",
       "   ],\n",
       "   \"source\": [\n",
       "    \"pwd\"\n",
       "   ]\n",
       "  },\n",
       "  {\n",
       "   \"cell_type\": \"code\",\n",
       "   \"execution_count\": 2,\n",
       "   \"id\": \"b91e0d4f-b5bd-460b-92e4-a84bb0df8ac9\",\n",
       "   \"metadata\": {},\n",
       "   \"outputs\": [\n",
       "    {\n",
       "     \"name\": \"stdout\",\n",
       "     \"output_type\": \"stream\",\n",
       "     \"text\": [\n",
       "      \"Untitled.ipynb      agenthelper.py      main.py\\n\",\n",
       "      \"\\u001b[34m__pycache__\\u001b[m\\u001b[m/        langchainhelper.py  my_keys.py\\n\"\n",
       "     ]\n",
       "    }\n",
       "   ],\n",
       "   \"source\": [\n",
       "    \"ls\"\n",
       "   ]\n",
       "  },\n",
       "  {\n",
       "   \"cell_type\": \"code\",\n",
       "   \"execution_count\": 3,\n",
       "   \"id\": \"ee55ac66-3d4b-480c-a9f1-b0f63155baeb\",\n",
       "   \"metadata\": {},\n",
       "   \"outputs\": [\n",
       "    {\n",
       "     \"ename\": \"SyntaxError\",\n",
       "     \"evalue\": \"invalid syntax (3945984024.py, line 1)\",\n",
       "     \"output_type\": \"error\",\n",
       "     \"traceback\": [\n",
       "      \"\\u001b[0;36m  Cell \\u001b[0;32mIn[3], line 1\\u001b[0;36m\\u001b[0m\\n\\u001b[0;31m    del __pycache__/\\u001b[0m\\n\\u001b[0m                   ^\\u001b[0m\\n\\u001b[0;31mSyntaxError\\u001b[0m\\u001b[0;31m:\\u001b[0m invalid syntax\\n\"\n",
       "     ]\n",
       "    }\n",
       "   ],\n",
       "   \"source\": [\n",
       "    \"del __pycache__/\"\n",
       "   ]\n",
       "  },\n",
       "  {\n",
       "   \"cell_type\": \"code\",\n",
       "   \"execution_count\": 4,\n",
       "   \"id\": \"ddc93091-639b-49e5-9b56-03cf061c487c\",\n",
       "   \"metadata\": {},\n",
       "   \"outputs\": [\n",
       "    {\n",
       "     \"ename\": \"SyntaxError\",\n",
       "     \"evalue\": \"invalid syntax (2885265343.py, line 1)\",\n",
       "     \"output_type\": \"error\",\n",
       "     \"traceback\": [\n",
       "      \"\\u001b[0;36m  Cell \\u001b[0;32mIn[4], line 1\\u001b[0;36m\\u001b[0m\\n\\u001b[0;31m    open Untitled.ipynb\\u001b[0m\\n\\u001b[0m         ^\\u001b[0m\\n\\u001b[0;31mSyntaxError\\u001b[0m\\u001b[0;31m:\\u001b[0m invalid syntax\\n\"\n",
       "     ]\n",
       "    }\n",
       "   ],\n",
       "   \"source\": [\n",
       "    \"open Untitled.ipynb\"\n",
       "   ]\n",
       "  },\n",
       "  {\n",
       "   \"cell_type\": \"code\",\n",
       "   \"execution_count\": null,\n",
       "   \"id\": \"62d96398-4438-40b1-8cab-4f9ece879787\",\n",
       "   \"metadata\": {},\n",
       "   \"outputs\": [],\n",
       "   \"source\": []\n",
       "  }\n",
       " ],\n",
       " \"metadata\": {\n",
       "  \"kernelspec\": {\n",
       "   \"display_name\": \"Python (openai-env)\",\n",
       "   \"language\": \"python\",\n",
       "   \"name\": \"myenv\"\n",
       "  },\n",
       "  \"language_info\": {\n",
       "   \"codemirror_mode\": {\n",
       "    \"name\": \"ipython\",\n",
       "    \"version\": 3\n",
       "   },\n",
       "   \"file_extension\": \".py\",\n",
       "   \"mimetype\": \"text/x-python\",\n",
       "   \"name\": \"python\",\n",
       "   \"nbconvert_exporter\": \"python\",\n",
       "   \"pygments_lexer\": \"ipython3\",\n",
       "   \"version\": \"3.10.12\"\n",
       "  }\n",
       " },\n",
       " \"nbformat\": 4,\n",
       " \"nbformat_minor\": 5\n",
       "}\n"
      ]
     },
     "metadata": {},
     "output_type": "display_data"
    }
   ],
   "source": [
    "more Untitled.ipynb"
   ]
  },
  {
   "cell_type": "code",
   "execution_count": 6,
   "id": "6fb8e516-c034-4917-8033-cb5199c68c19",
   "metadata": {},
   "outputs": [
    {
     "data": {
      "text/plain": [
       "\u001b[0;32mimport\u001b[0m \u001b[0mstreamlit\u001b[0m \u001b[0;32mas\u001b[0m \u001b[0mst\u001b[0m\u001b[0;34m\u001b[0m\n",
       "\u001b[0;34m\u001b[0m\u001b[0;32mimport\u001b[0m \u001b[0mlangchainhelper\u001b[0m\u001b[0;34m\u001b[0m\n",
       "\u001b[0;34m\u001b[0m\u001b[0;34m\u001b[0m\n",
       "\u001b[0;34m\u001b[0m\u001b[0mst\u001b[0m\u001b[0;34m.\u001b[0m\u001b[0mtitle\u001b[0m\u001b[0;34m(\u001b[0m\u001b[0;34m\"Restaurant Name Generator\"\u001b[0m\u001b[0;34m)\u001b[0m\u001b[0;34m\u001b[0m\n",
       "\u001b[0;34m\u001b[0m\u001b[0;34m\u001b[0m\n",
       "\u001b[0;34m\u001b[0m\u001b[0mcuisine\u001b[0m \u001b[0;34m=\u001b[0m \u001b[0mst\u001b[0m\u001b[0;34m.\u001b[0m\u001b[0msidebar\u001b[0m\u001b[0;34m.\u001b[0m\u001b[0mselectbox\u001b[0m\u001b[0;34m(\u001b[0m\u001b[0;34m\"Select a cuisine\"\u001b[0m\u001b[0;34m,\u001b[0m \u001b[0;34m(\u001b[0m\u001b[0;34m\"Italian\"\u001b[0m\u001b[0;34m,\u001b[0m \u001b[0;34m\"French\"\u001b[0m\u001b[0;34m,\u001b[0m \u001b[0;34m\"Mexican\"\u001b[0m\u001b[0;34m,\u001b[0m \u001b[0;34m\"Indian\"\u001b[0m\u001b[0;34m)\u001b[0m\u001b[0;34m)\u001b[0m\u001b[0;34m\u001b[0m\n",
       "\u001b[0;34m\u001b[0m\u001b[0;34m\u001b[0m\n",
       "\u001b[0;34m\u001b[0m\u001b[0;32mif\u001b[0m \u001b[0mcuisine\u001b[0m\u001b[0;34m:\u001b[0m\u001b[0;34m\u001b[0m\n",
       "\u001b[0;34m\u001b[0m    \u001b[0mresponse\u001b[0m \u001b[0;34m=\u001b[0m \u001b[0mlangchainhelper\u001b[0m\u001b[0;34m.\u001b[0m\u001b[0mgenerate_restaurant_name_and_items\u001b[0m\u001b[0;34m(\u001b[0m\u001b[0mcuisine\u001b[0m\u001b[0;34m)\u001b[0m\u001b[0;34m\u001b[0m\n",
       "\u001b[0;34m\u001b[0m    \u001b[0mst\u001b[0m\u001b[0;34m.\u001b[0m\u001b[0mheader\u001b[0m\u001b[0;34m(\u001b[0m\u001b[0mresponse\u001b[0m\u001b[0;34m[\u001b[0m\u001b[0;34m'restaurant_name'\u001b[0m\u001b[0;34m]\u001b[0m\u001b[0;34m.\u001b[0m\u001b[0mstrip\u001b[0m\u001b[0;34m(\u001b[0m\u001b[0;34m)\u001b[0m\u001b[0;34m)\u001b[0m\u001b[0;34m\u001b[0m\n",
       "\u001b[0;34m\u001b[0m    \u001b[0mmenu_items\u001b[0m \u001b[0;34m=\u001b[0m \u001b[0mresponse\u001b[0m\u001b[0;34m[\u001b[0m\u001b[0;34m'menu_items'\u001b[0m\u001b[0;34m]\u001b[0m\u001b[0;34m.\u001b[0m\u001b[0mstrip\u001b[0m\u001b[0;34m(\u001b[0m\u001b[0;34m)\u001b[0m\u001b[0;34m.\u001b[0m\u001b[0msplit\u001b[0m\u001b[0;34m(\u001b[0m\u001b[0;34m\",\"\u001b[0m\u001b[0;34m)\u001b[0m\u001b[0;34m\u001b[0m\n",
       "\u001b[0;34m\u001b[0m\u001b[0;34m\u001b[0m\n",
       "\u001b[0;34m\u001b[0m    \u001b[0mst\u001b[0m\u001b[0;34m.\u001b[0m\u001b[0mwrite\u001b[0m\u001b[0;34m(\u001b[0m\u001b[0;34m\"\"\" *** MENU ITEMS ***\"\"\"\u001b[0m\u001b[0;34m)\u001b[0m\u001b[0;34m\u001b[0m\n",
       "\u001b[0;34m\u001b[0m    \u001b[0;32mfor\u001b[0m \u001b[0mitem\u001b[0m \u001b[0;32min\u001b[0m \u001b[0mmenu_items\u001b[0m\u001b[0;34m:\u001b[0m\u001b[0;34m\u001b[0m\n",
       "\u001b[0;34m\u001b[0m        \u001b[0mst\u001b[0m\u001b[0;34m.\u001b[0m\u001b[0mwrite\u001b[0m\u001b[0;34m(\u001b[0m\u001b[0mitem\u001b[0m\u001b[0;34m)\u001b[0m\u001b[0;34m\u001b[0m\n",
       "\u001b[0;34m\u001b[0m\u001b[0;34m\u001b[0m\n",
       "\u001b[0;34m\u001b[0m\u001b[0;34m\u001b[0m\n",
       "\u001b[0;34m\u001b[0m\u001b[0;32mdef\u001b[0m \u001b[0mprint_hi\u001b[0m\u001b[0;34m(\u001b[0m\u001b[0mname\u001b[0m\u001b[0;34m)\u001b[0m\u001b[0;34m:\u001b[0m\u001b[0;34m\u001b[0m\n",
       "\u001b[0;34m\u001b[0m    \u001b[0;31m# Use a breakpoint in the code line below to debug your script.\u001b[0m\u001b[0;34m\u001b[0m\n",
       "\u001b[0;34m\u001b[0m    \u001b[0mprint\u001b[0m\u001b[0;34m(\u001b[0m\u001b[0;34mf'Hi, {name}'\u001b[0m\u001b[0;34m)\u001b[0m  \u001b[0;31m# Press ⌘F8 to toggle the breakpoint.\u001b[0m\u001b[0;34m\u001b[0m\n",
       "\u001b[0;34m\u001b[0m\u001b[0;34m\u001b[0m\n",
       "\u001b[0;34m\u001b[0m\u001b[0;34m\u001b[0m\n",
       "\u001b[0;34m\u001b[0m\u001b[0;31m# Press the green button in the gutter to run the script.\u001b[0m\u001b[0;34m\u001b[0m\n",
       "\u001b[0;34m\u001b[0m\u001b[0;32mif\u001b[0m \u001b[0m__name__\u001b[0m \u001b[0;34m==\u001b[0m \u001b[0;34m'__main__'\u001b[0m\u001b[0;34m:\u001b[0m\u001b[0;34m\u001b[0m\n",
       "\u001b[0;34m\u001b[0m    \u001b[0mprint_hi\u001b[0m\u001b[0;34m(\u001b[0m\u001b[0;34m'PyCharm'\u001b[0m\u001b[0;34m)\u001b[0m\u001b[0;34m\u001b[0m\n",
       "\u001b[0;34m\u001b[0m\u001b[0;34m\u001b[0m\n",
       "\u001b[0;34m\u001b[0m\u001b[0;31m# See PyCharm help at https://www.jetbrains.com/help/pycharm/\u001b[0m\u001b[0;34m\u001b[0m\u001b[0;34m\u001b[0m\u001b[0m\n"
      ]
     },
     "metadata": {},
     "output_type": "display_data"
    }
   ],
   "source": [
    "more main.py"
   ]
  },
  {
   "cell_type": "code",
   "execution_count": 7,
   "id": "b9be8bcc-effc-46c1-af0c-445c7731b4b2",
   "metadata": {},
   "outputs": [
    {
     "name": "stderr",
     "output_type": "stream",
     "text": [
      "/Users/diwaskc/anaconda3/envs/openai-env/lib/python3.10/site-packages/langchain/llms/openai.py:200: UserWarning: You are trying to use a chat model. This way of initializing it is no longer supported. Instead, please use: `from langchain.chat_models import ChatOpenAI`\n",
      "  warnings.warn(\n",
      "/Users/diwaskc/anaconda3/envs/openai-env/lib/python3.10/site-packages/langchain/llms/openai.py:787: UserWarning: You are trying to use a chat model. This way of initializing it is no longer supported. Instead, please use: `from langchain.chat_models import ChatOpenAI`\n",
      "  warnings.warn(\n",
      "2024-06-10 13:12:02.614 \n",
      "  \u001b[33m\u001b[1mWarning:\u001b[0m to view this Streamlit app on a browser, run it with the following\n",
      "  command:\n",
      "\n",
      "    streamlit run /Users/diwaskc/anaconda3/envs/openai-env/lib/python3.10/site-packages/ipykernel_launcher.py [ARGUMENTS]\n",
      "2024-06-10 13:12:02.614 Session state does not function when running a script without `streamlit run`\n"
     ]
    }
   ],
   "source": [
    "import streamlit as st\n",
    "import langchainhelper\n",
    "\n",
    "st.title(\"Restaurant Name Generator\")\n",
    "\n",
    "cuisine = st.sidebar.selectbox(\"Select a cuisine\", (\"Italian\", \"French\", \"Mexican\", \"Indian\"))\n",
    "\n",
    "if cuisine:\n",
    "    response = langchainhelper.generate_restaurant_name_and_items(cuisine)\n",
    "    st.header(response['restaurant_name'].strip())\n",
    "    menu_items = response['menu_items'].strip().split(\",\")\n",
    "\n",
    "    st.write(\"\"\" *** MENU ITEMS ***\"\"\")\n",
    "    for item in menu_items:\n",
    "        st.write(item)"
   ]
  },
  {
   "cell_type": "code",
   "execution_count": null,
   "id": "08f6de0c-72ea-486e-9c00-7b66e3cfd9d0",
   "metadata": {},
   "outputs": [],
   "source": []
  }
 ],
 "metadata": {
  "kernelspec": {
   "display_name": "Python (openai-env)",
   "language": "python",
   "name": "myenv"
  },
  "language_info": {
   "codemirror_mode": {
    "name": "ipython",
    "version": 3
   },
   "file_extension": ".py",
   "mimetype": "text/x-python",
   "name": "python",
   "nbconvert_exporter": "python",
   "pygments_lexer": "ipython3",
   "version": "3.10.12"
  }
 },
 "nbformat": 4,
 "nbformat_minor": 5
}
